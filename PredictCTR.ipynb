{
 "cells": [
  {
   "cell_type": "code",
   "execution_count": 1,
   "metadata": {
    "collapsed": true
   },
   "outputs": [],
   "source": [
    "%matplotlib inline\n",
    "\n",
    "import csv\n",
    "import time\n",
    "\n",
    "import matplotlib.pyplot as plt\n",
    "import numpy as np\n",
    "from sklearn.feature_extraction import DictVectorizer\n",
    "from sklearn.linear_model import SGDClassifier\n",
    "from sklearn.naive_bayes import BernoulliNB, MultinomialNB, GaussianNB\n",
    "from sklearn.metrics import roc_curve"
   ]
  },
  {
   "cell_type": "markdown",
   "metadata": {},
   "source": [
    "# Check how diverse is the data set."
   ]
  },
  {
   "cell_type": "code",
   "execution_count": 2,
   "metadata": {
    "collapsed": true
   },
   "outputs": [],
   "source": [
    "def parse_dict(d):\n",
    "    user_tags = d['user_tags'].split(',')\n",
    "    del d['user_tags']\n",
    "    for tag in user_tags:\n",
    "        d['tag_' + tag] = True\n",
    "    del d['click']  # Click is the target variable.\n",
    "    return d"
   ]
  },
  {
   "cell_type": "code",
   "execution_count": 3,
   "metadata": {
    "collapsed": false
   },
   "outputs": [],
   "source": [
    "field_names = ['click', 'weekday', 'hour', 'timestamp', 'log_type', 'user_id', 'user_agent',\n",
    "               'ip', 'region', 'city', 'ad_exchange', 'domain', 'url', 'anonymous_url_id', \n",
    "               'ad_slot_id', 'ad_slot_width', 'ad_slot_height', 'ad_slot_visibility', 'ad_slot_format',\n",
    "               'ad_slot_floor_price', 'creative_id', 'key_page_url', 'advertiser_id', 'user_tags']\n",
    "l = []\n",
    "with open('train.txt') as f:\n",
    "    reader = csv.DictReader(f, delimiter='\\t', fieldnames=field_names)\n",
    "    for row in reader:\n",
    "        d = parse_dict(row)\n",
    "        l.append(d)\n",
    "        if len(l) > 100000:\n",
    "            break"
   ]
  },
  {
   "cell_type": "code",
   "execution_count": 4,
   "metadata": {
    "collapsed": false
   },
   "outputs": [],
   "source": [
    "set_keys = set()\n",
    "for d in l:\n",
    "    for key in d:\n",
    "        set_keys.add(key)"
   ]
  },
  {
   "cell_type": "code",
   "execution_count": 5,
   "metadata": {
    "collapsed": false
   },
   "outputs": [
    {
     "name": "stdout",
     "output_type": "stream",
     "text": [
      "ad_exchange 3\n",
      "ad_slot_floor_price 92\n",
      "ad_slot_format 3\n",
      "ad_slot_height 6\n",
      "ad_slot_id 7135\n",
      "ad_slot_visibility 4\n",
      "ad_slot_width 11\n",
      "advertiser_id 1\n",
      "anonymous_url_id 1\n",
      "city 368\n",
      "creative_id 11\n",
      "domain 3475\n",
      "hour 11\n",
      "ip 65488\n",
      "key_page_url 2\n",
      "log_type 1\n",
      "region 35\n",
      "timestamp 90971\n",
      "url 35194\n",
      "user_agent 31\n",
      "user_id 90574\n",
      "weekday 1\n"
     ]
    }
   ],
   "source": [
    "for key in sorted(set_keys):\n",
    "    if key.startswith('tag_'):\n",
    "        continue\n",
    "    print(key, len(set([x[key] for x in l if key in x])))"
   ]
  },
  {
   "cell_type": "markdown",
   "metadata": {},
   "source": [
    "As result of this, we choose, as a start, to throw out `ip`, `user_id`, `url`, `timestamp`, `domain`, `city`, `ad_slot_id` fields as they would lead to too many features.\n",
    "Also remove fields that have no diversity, like `advertiser_id` and `log_type`.\n",
    "\n",
    "# Convert dataset into encoded features"
   ]
  },
  {
   "cell_type": "code",
   "execution_count": 18,
   "metadata": {
    "collapsed": true
   },
   "outputs": [],
   "source": [
    "float_fields = ['ad_slot_floor_price', 'ad_slot_height', 'ad_slot_width', 'hour']\n",
    "remove_fields = ['ip', 'user_id', 'url', 'timestamp', 'domain', 'city', 'ad_slot_id', 'log_type', 'advertiser_id', 'anonymous_url_id']\n",
    "def parse_dict(d):\n",
    "    user_tags = d['user_tags'].split(',')\n",
    "    del d['user_tags']\n",
    "    for tag in user_tags:\n",
    "        d['tag_' + tag] = True\n",
    "    if 'click' in d:\n",
    "        del d['click']  # Click is the target variable.\n",
    "    for ff in float_fields:\n",
    "        d[ff] = float(d[ff])\n",
    "    for f in remove_fields:\n",
    "        del d[f]\n",
    "    user_agent = d['user_agent']\n",
    "    os, browser = user_agent.split('_')\n",
    "    d['os'] = os\n",
    "    d['browser'] = browser\n",
    "    del d['user_agent']\n",
    "    return d"
   ]
  },
  {
   "cell_type": "code",
   "execution_count": 7,
   "metadata": {
    "collapsed": false
   },
   "outputs": [],
   "source": [
    "# Use first million data points to train the DictVectorizer.\n",
    "l = []\n",
    "with open('train.txt') as f:\n",
    "    reader = csv.DictReader(f, delimiter='\\t', fieldnames=field_names)\n",
    "    for row in reader:\n",
    "        d = parse_dict(row)\n",
    "        l.append(d)\n",
    "        if len(l) == 1000000:\n",
    "            break"
   ]
  },
  {
   "cell_type": "code",
   "execution_count": 8,
   "metadata": {
    "collapsed": false
   },
   "outputs": [],
   "source": [
    "dv = DictVectorizer()"
   ]
  },
  {
   "cell_type": "code",
   "execution_count": 9,
   "metadata": {
    "collapsed": false
   },
   "outputs": [
    {
     "data": {
      "text/plain": [
       "DictVectorizer(dtype=<class 'numpy.float64'>, separator='=', sort=True,\n",
       "        sparse=True)"
      ]
     },
     "execution_count": 9,
     "metadata": {},
     "output_type": "execute_result"
    }
   ],
   "source": [
    "dv.fit(l)"
   ]
  },
  {
   "cell_type": "code",
   "execution_count": 10,
   "metadata": {
    "collapsed": false
   },
   "outputs": [
    {
     "name": "stdout",
     "output_type": "stream",
     "text": [
      "124\n"
     ]
    },
    {
     "data": {
      "text/plain": [
       "['ad_exchange=1',\n",
       " 'ad_exchange=2',\n",
       " 'ad_exchange=3',\n",
       " 'ad_slot_floor_price',\n",
       " 'ad_slot_format=0',\n",
       " 'ad_slot_format=1',\n",
       " 'ad_slot_format=5',\n",
       " 'ad_slot_height',\n",
       " 'ad_slot_visibility=0',\n",
       " 'ad_slot_visibility=1',\n",
       " 'ad_slot_visibility=2',\n",
       " 'ad_slot_visibility=255',\n",
       " 'ad_slot_width',\n",
       " 'browser=chrome',\n",
       " 'browser=firefox',\n",
       " 'browser=ie',\n",
       " 'browser=maxthon',\n",
       " 'browser=opera',\n",
       " 'browser=other',\n",
       " 'browser=safari',\n",
       " 'browser=sogou',\n",
       " 'browser=theworld',\n",
       " 'creative_id=011c1a3d4d3f089a54f9b70a4c0a6eb3',\n",
       " 'creative_id=2f88fc9cf0141b5bbaf251cab07f4ce7',\n",
       " 'creative_id=44966cc8da1ed40c95d59e863c8c75f0',\n",
       " 'creative_id=47905feeb59223468fb898b3c9ac024d',\n",
       " 'creative_id=6cdf8fdd3e01122b09b5b411510a2385',\n",
       " 'creative_id=7097e4210dea4d69f07f0f5e4343529c',\n",
       " 'creative_id=82f125e356439d73902ae85e2be96777',\n",
       " 'creative_id=86c2543527c86a893d4d4f68810a0416',\n",
       " 'creative_id=b90c12ed2bd7950c6027bf9c6937c48a',\n",
       " 'creative_id=e87d7633d474589c2e2e3ba4eda53f6c',\n",
       " 'creative_id=ff5123fb9333ca095034c62fdaaf51aa',\n",
       " 'hour',\n",
       " 'key_page_url=361e128affece850342293213691a043',\n",
       " 'key_page_url=43f4a37f42a7c5e6219e2601b26c6976',\n",
       " 'os=android',\n",
       " 'os=ios',\n",
       " 'os=linux',\n",
       " 'os=mac',\n",
       " 'os=other',\n",
       " 'os=windows',\n",
       " 'region=0',\n",
       " 'region=1',\n",
       " 'region=106',\n",
       " 'region=124',\n",
       " 'region=134',\n",
       " 'region=146',\n",
       " 'region=15',\n",
       " 'region=164',\n",
       " 'region=183',\n",
       " 'region=2',\n",
       " 'region=201',\n",
       " 'region=216',\n",
       " 'region=238',\n",
       " 'region=253',\n",
       " 'region=27',\n",
       " 'region=275',\n",
       " 'region=276',\n",
       " 'region=298',\n",
       " 'region=3',\n",
       " 'region=308',\n",
       " 'region=325',\n",
       " 'region=333',\n",
       " 'region=344',\n",
       " 'region=359',\n",
       " 'region=368',\n",
       " 'region=374',\n",
       " 'region=393',\n",
       " 'region=394',\n",
       " 'region=395',\n",
       " 'region=40',\n",
       " 'region=55',\n",
       " 'region=65',\n",
       " 'region=79',\n",
       " 'region=80',\n",
       " 'region=94',\n",
       " 'tag_10006',\n",
       " 'tag_10024',\n",
       " 'tag_10031',\n",
       " 'tag_10048',\n",
       " 'tag_10052',\n",
       " 'tag_10057',\n",
       " 'tag_10059',\n",
       " 'tag_10063',\n",
       " 'tag_10067',\n",
       " 'tag_10074',\n",
       " 'tag_10075',\n",
       " 'tag_10076',\n",
       " 'tag_10077',\n",
       " 'tag_10079',\n",
       " 'tag_10083',\n",
       " 'tag_10093',\n",
       " 'tag_10102',\n",
       " 'tag_10110',\n",
       " 'tag_10111',\n",
       " 'tag_10684',\n",
       " 'tag_11092',\n",
       " 'tag_11278',\n",
       " 'tag_11379',\n",
       " 'tag_11423',\n",
       " 'tag_11512',\n",
       " 'tag_11576',\n",
       " 'tag_11632',\n",
       " 'tag_11680',\n",
       " 'tag_11724',\n",
       " 'tag_11944',\n",
       " 'tag_13042',\n",
       " 'tag_13403',\n",
       " 'tag_13496',\n",
       " 'tag_13678',\n",
       " 'tag_13776',\n",
       " 'tag_13800',\n",
       " 'tag_13866',\n",
       " 'tag_13874',\n",
       " 'tag_14273',\n",
       " 'tag_16593',\n",
       " 'tag_16617',\n",
       " 'tag_16661',\n",
       " 'tag_16706',\n",
       " 'tag_null',\n",
       " 'weekday=0',\n",
       " 'weekday=1',\n",
       " 'weekday=6']"
      ]
     },
     "execution_count": 10,
     "metadata": {},
     "output_type": "execute_result"
    }
   ],
   "source": [
    "# Check what features we have.\n",
    "print(len(dv.get_feature_names()))\n",
    "dv.get_feature_names()"
   ]
  },
  {
   "cell_type": "markdown",
   "metadata": {},
   "source": [
    "# Transform data into features on the fly"
   ]
  },
  {
   "cell_type": "code",
   "execution_count": 11,
   "metadata": {
    "collapsed": true
   },
   "outputs": [],
   "source": [
    "# At this point we are ready to transform the data into features.\n",
    "field_names = ['click', 'weekday', 'hour', 'timestamp', 'log_type', 'user_id', 'user_agent',\n",
    "               'ip', 'region', 'city', 'ad_exchange', 'domain', 'url', 'anonymous_url_id', \n",
    "               'ad_slot_id', 'ad_slot_width', 'ad_slot_height', 'ad_slot_visibility', 'ad_slot_format',\n",
    "               'ad_slot_floor_price', 'creative_id', 'key_page_url', 'advertiser_id', 'user_tags']\n",
    "def stream_data(test_data=False, train_data=False):\n",
    "    l = []\n",
    "    targets = []\n",
    "    with open('train.txt') as f:\n",
    "        reader = csv.DictReader(f, delimiter='\\t', fieldnames=field_names)\n",
    "        for n, row in enumerate(reader):\n",
    "            n += 1\n",
    "            if not train_data and n <= 2000000:\n",
    "                continue\n",
    "            if not test_data and n > 2000000:\n",
    "                continue\n",
    "            targets.append(int(row['click']))\n",
    "            d = parse_dict(row)\n",
    "            l.append(d)\n",
    "            if len(l) == 5000:\n",
    "                features = dv.transform(l).toarray()\n",
    "                yield features, np.array(targets, dtype='int16')\n",
    "                l = []\n",
    "                targets = []\n",
    "        if len(l) > 0:\n",
    "            features = dv.transform(l).toarray()\n",
    "            yield features, np.array(targets, dtype='int16')"
   ]
  },
  {
   "cell_type": "code",
   "execution_count": 12,
   "metadata": {
    "collapsed": false
   },
   "outputs": [
    {
     "name": "stdout",
     "output_type": "stream",
     "text": [
      "50\n",
      "100\n",
      "150\n",
      "200\n",
      "250\n",
      "300\n",
      "350\n",
      "400\n"
     ]
    }
   ],
   "source": [
    "def MySGDClassifier(alpha):\n",
    "    return SGDClassifier(loss='log', n_iter=5, warm_start=True, alpha=alpha)\n",
    "predictors = [BernoulliNB(), MultinomialNB(), GaussianNB(), MySGDClassifier(alpha=0.1), MySGDClassifier(alpha=1), MySGDClassifier(alpha=10), MySGDClassifier(alpha=100)]\n",
    "n = 0\n",
    "classes = [0, 1]\n",
    "for features, targets in stream_data(train_data=True):\n",
    "    n += 1\n",
    "    for pred in predictors:\n",
    "        pred.partial_fit(features, targets, classes=classes)\n",
    "    if n % 50 == 0:\n",
    "        print(n)"
   ]
  },
  {
   "cell_type": "code",
   "execution_count": 13,
   "metadata": {
    "collapsed": false
   },
   "outputs": [
    {
     "name": "stdout",
     "output_type": "stream",
     "text": [
      "50\n",
      "100\n",
      "150\n"
     ]
    }
   ],
   "source": [
    "n = 0\n",
    "total_predictions = [ [], [], [], [], [], [], [] ]\n",
    "total_targets = np.zeros(0, dtype='int16')\n",
    "for features, targets in stream_data(test_data=True):\n",
    "    total_targets = np.append(total_targets, targets)\n",
    "    for i, pred in enumerate(predictors):\n",
    "        probas = pred.predict_log_proba(features)[:,1]\n",
    "        total_predictions[i] = np.append(total_predictions[i], probas)\n",
    "    n += 1\n",
    "    if n % 50 == 0:\n",
    "        print(n)"
   ]
  },
  {
   "cell_type": "code",
   "execution_count": 14,
   "metadata": {
    "collapsed": false
   },
   "outputs": [
    {
     "data": {
      "image/png": "[encoded data removed]",
      "text/plain": [
       "<matplotlib.figure.Figure at 0x7f1bb6a2aeb8>"
      ]
     },
     "metadata": {},
     "output_type": "display_data"
    }
   ],
   "source": [
    "colors = ['r', 'g', 'b', 'k', 'k', 'k', 'k']\n",
    "labels = ['B-NB', 'M-NB', 'G-NB', 'LogReg1', 'LogReg2', 'LogReg3', 'LogReg4']\n",
    "plt.figure(figsize=(5, 5))\n",
    "for i in range(7):\n",
    "    fpr, tpr, thresholds = roc_curve(total_targets, total_predictions[i])\n",
    "    plt.plot(fpr, tpr, colors[i], label=labels[i])\n",
    "plt.xlabel('False positive rate')\n",
    "plt.ylabel('True positive rate')\n",
    "plt.legend(loc='lower right');\n"
   ]
  },
  {
   "cell_type": "markdown",
   "metadata": {},
   "source": [
    "# Choose 1 predictor, train up with full data and predict the test data"
   ]
  },
  {
   "cell_type": "code",
   "execution_count": 15,
   "metadata": {
    "collapsed": false
   },
   "outputs": [
    {
     "name": "stdout",
     "output_type": "stream",
     "text": [
      "50\n",
      "100\n",
      "150\n",
      "200\n",
      "250\n",
      "300\n",
      "350\n",
      "400\n",
      "450\n",
      "500\n",
      "550\n"
     ]
    }
   ],
   "source": [
    "predictor = GaussianNB()\n",
    "n = 0\n",
    "classes = [0, 1]\n",
    "for features, targets in stream_data(train_data=True, test_data=True):\n",
    "    n += 1\n",
    "    predictor.partial_fit(features, targets, classes=classes)\n",
    "    if n % 50 == 0:\n",
    "        print(n)"
   ]
  },
  {
   "cell_type": "code",
   "execution_count": 16,
   "metadata": {
    "collapsed": true
   },
   "outputs": [],
   "source": [
    "# Load test data.\n",
    "test_field_names = ['weekday', 'hour', 'timestamp', 'log_type', 'user_id', 'user_agent',\n",
    "               'ip', 'region', 'city', 'ad_exchange', 'domain', 'url', 'anonymous_url_id', \n",
    "               'ad_slot_id', 'ad_slot_width', 'ad_slot_height', 'ad_slot_visibility', 'ad_slot_format',\n",
    "               'ad_slot_floor_price', 'creative_id', 'key_page_url', 'advertiser_id', 'user_tags']\n",
    "def stream_test_data():\n",
    "    l = []\n",
    "    with open('test.txt') as f:\n",
    "        reader = csv.DictReader(f, delimiter='\\t', fieldnames=test_field_names)\n",
    "        for n, row in enumerate(reader):\n",
    "            d = parse_dict(row)\n",
    "            l.append(d)\n",
    "            if len(l) == 5000:\n",
    "                features = dv.transform(l).toarray()\n",
    "                yield features\n",
    "                l = []\n",
    "        if len(l) > 0:\n",
    "            features = dv.transform(l).toarray()\n",
    "            yield features"
   ]
  },
  {
   "cell_type": "code",
   "execution_count": 24,
   "metadata": {
    "collapsed": false
   },
   "outputs": [],
   "source": [
    "n = 1\n",
    "with open('submission.csv', 'w') as f:\n",
    "    f.write('Id,Prediction\\n')\n",
    "    for features in stream_test_data():\n",
    "        for row in predictor.predict_proba(features):\n",
    "            f.write('%d,%.4f\\n' % (n, row[1]))\n",
    "            n += 1"
   ]
  },
  {
   "cell_type": "code",
   "execution_count": null,
   "metadata": {
    "collapsed": true
   },
   "outputs": [],
   "source": []
  }
 ],
 "metadata": {
  "kernelspec": {
   "display_name": "Python 3",
   "language": "python",
   "name": "python3"
  },
  "language_info": {
   "codemirror_mode": {
    "name": "ipython",
    "version": 3
   },
   "file_extension": ".py",
   "mimetype": "text/x-python",
   "name": "python",
   "nbconvert_exporter": "python",
   "pygments_lexer": "ipython3",
   "version": "3.4.3"
  }
 },
 "nbformat": 4,
 "nbformat_minor": 0
}
